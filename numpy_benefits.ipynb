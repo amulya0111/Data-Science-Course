{
 "cells": [
  {
   "cell_type": "code",
   "execution_count": 6,
   "id": "1718632c-76db-441b-a31f-b1931ebc6b24",
   "metadata": {},
   "outputs": [
    {
     "name": "stdout",
     "output_type": "stream",
     "text": [
      "time= 0.950796365737915\n"
     ]
    }
   ],
   "source": [
    "import numpy as np\n",
    "import time\n",
    "\n",
    "size = 10000000\n",
    "l1 = list(range(size))\n",
    "l2 = list(range(size))\n",
    "\n",
    "start = time.time()\n",
    "result = [x+y for x,y in zip(l1,l2)]\n",
    "end = time.time()\n",
    "print(\"time=\",end-start)\n"
   ]
  },
  {
   "cell_type": "code",
   "execution_count": 8,
   "id": "cb94e633-08b0-42bc-81fc-574819af27b7",
   "metadata": {},
   "outputs": [
    {
     "name": "stdout",
     "output_type": "stream",
     "text": [
      "time= 0.023898601531982422\n",
      "type of array1 = <class 'numpy.ndarray'> /n shape of array1 = (10000000,)\n"
     ]
    }
   ],
   "source": [
    "import numpy as np\n",
    "import time\n",
    "size = 10000000\n",
    "l1 = list(range(size))\n",
    "l2 = list(range(size))\n",
    "\n",
    "arr1 = np.array(l1)\n",
    "arr2 = np.array(l2)\n",
    "\n",
    "start = time.time()\n",
    "arr3 = arr1+arr2\n",
    "end = time.time()\n",
    "print(\"time=\",end-start)\n",
    "\n",
    "print(f\"type of array1 = {type(arr1)} /n shape of array1 = {arr1.shape}\")\n",
    "\n"
   ]
  },
  {
   "cell_type": "code",
   "execution_count": 9,
   "id": "109aef46-7ce3-4287-8925-3f5938dece17",
   "metadata": {},
   "outputs": [
    {
     "name": "stdout",
     "output_type": "stream",
     "text": [
      "Python list size: 8056000 bytes\n",
      "NumPy array size: 4000 bytes\n"
     ]
    }
   ],
   "source": [
    "import sys\n",
    " \n",
    "list_data = list(range(1000))\n",
    "numpy_data = np.array(list_data)\n",
    " \n",
    "print(\"Python list size:\", sys.getsizeof(list_data) * len(list_data), \"bytes\")\n",
    "print(\"NumPy array size:\", numpy_data.nbytes, \"bytes\")"
   ]
  }
 ],
 "metadata": {
  "kernelspec": {
   "display_name": "Python [conda env:base] *",
   "language": "python",
   "name": "conda-base-py"
  },
  "language_info": {
   "codemirror_mode": {
    "name": "ipython",
    "version": 3
   },
   "file_extension": ".py",
   "mimetype": "text/x-python",
   "name": "python",
   "nbconvert_exporter": "python",
   "pygments_lexer": "ipython3",
   "version": "3.12.7"
  }
 },
 "nbformat": 4,
 "nbformat_minor": 5
}
