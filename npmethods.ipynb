{
 "cells": [
  {
   "cell_type": "code",
   "execution_count": 1,
   "id": "cab9ce07-b52b-4607-8c73-ea2bfaf68ba9",
   "metadata": {
    "jupyter": {
     "source_hidden": true
    }
   },
   "outputs": [],
   "source": [
    "#Create a 3×3 array filled with random numbers and print its shape.\n",
    "# Convert an array of floats [1.1, 2.2, 3.3] into integers.\n",
    "# Use fancy indexing to extract even numbers from [1, 2, 3, 4, 5, 6].\n",
    "# Reshape a 1D array of size 9 into a 3×3 matrix.\n",
    "# Use boolean masking to filter numbers greater than 50 in an array."
   ]
  },
  {
   "cell_type": "code",
   "execution_count": 16,
   "id": "c059b6ab-2285-4729-8154-c20fe5b78438",
   "metadata": {
    "scrolled": true
   },
   "outputs": [
    {
     "name": "stdout",
     "output_type": "stream",
     "text": [
      "[[46 65 19]\n",
      " [61 30 96]\n",
      " [25 77 80]]\n"
     ]
    }
   ],
   "source": [
    "#Create a 3×3 array filled with random numbers and print its shape.\n",
    "import numpy as np\n",
    "import random\n",
    "\n",
    "random_array = np.random.randint(1, 100,(3,3))\n",
    "print(random_array)\n",
    "   \n",
    "\n",
    "    \n"
   ]
  },
  {
   "cell_type": "code",
   "execution_count": 18,
   "id": "84b43e5a-dd5f-4ef2-b0f2-d2a0bb83049b",
   "metadata": {},
   "outputs": [
    {
     "name": "stdout",
     "output_type": "stream",
     "text": [
      "[1 2 3]\n"
     ]
    }
   ],
   "source": [
    "# Convert an array of floats [1.1, 2.2, 3.3] into integers.\n",
    "import numpy as np\n",
    "array=np.array([1.1,2.2,3.3])\n",
    "int_arr= array.astype(np.int32)\n",
    "print(int_arr)\n"
   ]
  },
  {
   "cell_type": "code",
   "execution_count": 19,
   "id": "6383c1e0-8d21-438a-8f5b-c7bae8d53099",
   "metadata": {},
   "outputs": [
    {
     "name": "stdout",
     "output_type": "stream",
     "text": [
      "[2 4 6]\n"
     ]
    }
   ],
   "source": [
    "# Use fancy indexing to extract even numbers from [1, 2, 3, 4, 5, 6].\n",
    "array=np.array([1,2,3,4,5,6])\n",
    "ind=[1,3,5]\n",
    "print(array[ind])\n"
   ]
  },
  {
   "cell_type": "code",
   "execution_count": 20,
   "id": "5e543635-09c0-4a64-bcf7-11ac8aeb61f5",
   "metadata": {},
   "outputs": [
    {
     "name": "stdout",
     "output_type": "stream",
     "text": [
      "[[1 1 1]\n",
      " [1 1 1]\n",
      " [1 1 1]]\n"
     ]
    }
   ],
   "source": [
    "# Reshape a 1D array of size 9 into a 3×3 matrix.\n",
    "array=np.array([1,1,1,1,1,1,1,1,1])\n",
    "reshape= array.reshape((3,3))\n",
    "print(reshape)\n"
   ]
  },
  {
   "cell_type": "code",
   "execution_count": 21,
   "id": "d6c6c5ed-dd73-47a7-913c-0ce08ae55b49",
   "metadata": {},
   "outputs": [
    {
     "name": "stdout",
     "output_type": "stream",
     "text": [
      "[68 98 87 57 67]\n"
     ]
    }
   ],
   "source": [
    "# Use boolean masking to filter numbers greater than 50 in an array.\n",
    "import numpy as np\n",
    "array=np.array([12,45,68,98,87,57,67,32])\n",
    "print(array[array>50])"
   ]
  },
  {
   "cell_type": "code",
   "execution_count": 3,
   "id": "d83741e6-8d6d-49a0-acdf-8c2becf2a540",
   "metadata": {},
   "outputs": [
    {
     "name": "stdout",
     "output_type": "stream",
     "text": [
      "[[[ 1  2  3]\n",
      "  [ 4  5  6]]\n",
      "\n",
      " [[ 7  8  9]\n",
      "  [10 11 12]]]\n",
      "6\n",
      "[[1 2 3]\n",
      " [7 8 9]]\n"
     ]
    }
   ],
   "source": [
    "import numpy as np\n",
    "arr3D = np.array([[[1, 2, 3], [4, 5, 6]],\n",
    "                  [[7, 8, 9], [10, 11, 12]]])\n",
    "\n",
    "# Output of arr3D.shape is → (depth, rows, columns)\n",
    "print(arr3D)  \n",
    "# First sheet, second row, third column\n",
    "print(arr3D[0, 1, 2])  # Output: 6\n",
    "\n",
    "print(arr3D[:, 0, :])   # Get the first row from both sheets"
   ]
  },
  {
   "cell_type": "code",
   "execution_count": null,
   "id": "4e000c80-be90-47f0-bfcd-f17a448792d2",
   "metadata": {},
   "outputs": [],
   "source": [
    "# NumPy’s data types and how they affect memory usage and performance in ur arrays.\n",
    "\n",
    "# 1. Introduction to NumPy Data Types\n",
    "# NumPy arrays are homogeneous, meaning that they can only store elements of the same type. This is different from Python lists, which can hold mixed data types. NumPy supports various data types (also called dtypes), and understanding them is crucial for optimizing memory usage and performance.\n",
    "\n",
    "# Common Data Types in NumPy:\n",
    "# int32, int64: Integer types with different bit sizes.\n",
    "# float32, float64: Floating-point types with different precision.\n",
    "# bool: Boolean data type.\n",
    "# complex64, complex128: Complex number types.\n",
    "# object: For storing objects (e.g., Python objects, strings).\n",
    "# You can check the dtype of a NumPy array using the .dtype attribute."
   ]
  },
  {
   "cell_type": "code",
   "execution_count": 10,
   "id": "29ce6d44-3260-42c6-8d69-a01e5439d65e",
   "metadata": {},
   "outputs": [
    {
     "name": "stdout",
     "output_type": "stream",
     "text": [
      "[1]\n",
      "[1, 4]\n",
      "[1, 4, 9]\n",
      "[1, 4, 9, 16]\n",
      "[1, 4, 9, 16, 25]\n",
      "[ 1  4  9 16 25]\n"
     ]
    }
   ],
   "source": [
    "#np benefits (vectorisation,broadcasting,application(hands-on)\n",
    "#simple py method \n",
    "import numpy as np\n",
    "arr=np.array([1,2,3,4,5])\n",
    "result =[]\n",
    "for num in arr:\n",
    "    result.append(num**2)\n",
    "    print(result)\n",
    "#vectorisation(fixes loop problen,optimizes low level C backend,processes multiple elements in parallel)\n",
    "result = arr**2\n",
    "print(result)"
   ]
  },
  {
   "cell_type": "code",
   "execution_count": 11,
   "id": "20bff4d8-77d8-4bf5-ba8e-300a39f9257d",
   "metadata": {},
   "outputs": [
    {
     "name": "stdout",
     "output_type": "stream",
     "text": [
      "[11 12 13 14 15]\n",
      "[[2 4 6]\n",
      " [5 7 9]]\n"
     ]
    }
   ],
   "source": [
    "#broadcasting(array and scalar operations)\n",
    "arr = np.array([1,2,3,4,5])\n",
    "result = arr+10\n",
    "print(result)\n",
    "#with different arrays and shapes(rules:compatible dimension,streching arrays)\n",
    "arr1=np.array([[1,2,3],[4,5,6]])\n",
    "arr2=np.array([1,2,3])\n",
    "result = arr1+arr2\n",
    "print(result)"
   ]
  },
  {
   "cell_type": "code",
   "execution_count": 12,
   "id": "f7ee3fbe-a2bb-4311-85f7-72dc2eae608f",
   "metadata": {},
   "outputs": [
    {
     "name": "stdout",
     "output_type": "stream",
     "text": [
      "[[-1.26491106 -1.12396131 -1.42387716]\n",
      " [-0.31622777 -0.6916685  -0.73490434]\n",
      " [ 0.63245553 -0.25937569 -0.04593152]\n",
      " [ 1.58113883  0.31701473  1.10235651]\n",
      " [-0.63245553  1.75799077  1.10235651]]\n"
     ]
    }
   ],
   "source": [
    "#Normalizing Data Using Broadcasting((data-mean)-std)\n",
    "data = np.array([[1,2,3],[4,5,6],[7,8,9],[10,12,14],[3,22,14]])\n",
    "#calculating mean and standard deviation for each feature(column)\n",
    "mean=data.mean(axis=0)\n",
    "std=data.std(axis=0)\n",
    "#normalise\n",
    "normalized_data=(data - mean)/std\n",
    "print(normalized_data)"
   ]
  },
  {
   "cell_type": "code",
   "execution_count": 21,
   "id": "f8b28b0c-4105-4c03-b30d-76265f04160e",
   "metadata": {},
   "outputs": [
    {
     "name": "stdout",
     "output_type": "stream",
     "text": [
      "3.0\n",
      "1.4142135623730951\n",
      "2.0\n",
      "1\n",
      "5\n",
      "15\n",
      "120\n",
      "3.0\n",
      "3.0\n",
      "0\n",
      "4\n",
      "1.0\n",
      "[1 2 3 4 5]\n",
      "[1 1 1 1]\n",
      "[ 1  3  6 10 15]\n",
      "[ 0.   2.5  5.   7.5 10. ]\n",
      "[0.         0.69314718 1.09861229 1.38629436 1.60943791]\n",
      "[  2.71828183   7.3890561   20.08553692  54.59815003 148.4131591 ]\n"
     ]
    }
   ],
   "source": [
    "#mathematical functions in numpy\n",
    "import numpy as np\n",
    "arr = np.array([1,2,3,4,5])\n",
    "print(np.mean(arr))\n",
    "print(np.std(arr))\n",
    "print(np.var(arr))#Compute the variance of an array.\n",
    "print(np.min(arr))\n",
    "print(np.max(arr))\n",
    "print(np.sum(arr))\n",
    "print(np.prod(arr))\n",
    "print(np.median(arr))\n",
    "print(np.percentile(arr, 50))  # For the 50th percentile (median)\n",
    "print(np.argmin(arr))#– Return the index of the minimum value in an array.\n",
    "print(np.argmax(arr))#– Return the index of the maximum value in an array.\n",
    "print(np.corrcoef(arr)) #– Compute the correlation coefficient matrix of two arrays.\n",
    "print(np.unique(arr))#Find the unique elements of an array.\n",
    "print(np.diff(arr))#– Compute the n-th differences of an array.\n",
    "print(np.cumsum(arr))# – Compute the cumulative sum of an array\n",
    "print(np.linspace(0, 10, 5))  # 5 numbers from 0 to 10...– Create an array with evenly spaced numbers over a specified interval.\n",
    "print(np.log(arr))#– Compute the natural logarithm of an array.\n",
    "print(np.exp(arr))#– Compute the exponential of an array."
   ]
  },
  {
   "cell_type": "code",
   "execution_count": 1,
   "id": "4b92b180-7a8f-4501-8e4b-cbd30ff46ad5",
   "metadata": {},
   "outputs": [
    {
     "name": "stdin",
     "output_type": "stream",
     "text": [
      "Enter number of rows (n):  2\n",
      "Enter number of columns (m):  2\n"
     ]
    },
    {
     "name": "stdout",
     "output_type": "stream",
     "text": [
      "Enter the elements row-wise:\n"
     ]
    },
    {
     "name": "stdin",
     "output_type": "stream",
     "text": [
      " 5 6\n",
      " 3 4\n"
     ]
    },
    {
     "name": "stdout",
     "output_type": "stream",
     "text": [
      "Your array:\n",
      "[5, 6]\n",
      "[3, 4]\n"
     ]
    }
   ],
   "source": [
    "cant remember such stupid shit\n",
    "## to get input from an nxm array\n",
    "#find n and m\n",
    "n = int(input(\"Enter number of rows (n): \"))\n",
    "m = int(input(\"Enter number of columns (m): \"))\n",
    "#get elements entered\n",
    "array = []\n",
    "print(\"Enter the elements row-wise:\")\n",
    "for i in range(n):\n",
    "    row = list(map(int, input().split()))\n",
    "    if len(row) != m:\n",
    "        print(\"Please enter\", m, \"elements.\")\n",
    "        exit()\n",
    "    array.append(row)\n",
    "\n",
    "print(\"Your array:\")\n",
    "for row in array:\n",
    "    print(row)\n"
   ]
  },
  {
   "cell_type": "code",
   "execution_count": null,
   "id": "4acc542b-3b4a-469f-aaa8-b6ee567380f5",
   "metadata": {},
   "outputs": [],
   "source": []
  }
 ],
 "metadata": {
  "kernelspec": {
   "display_name": "Python [conda env:base] *",
   "language": "python",
   "name": "conda-base-py"
  },
  "language_info": {
   "codemirror_mode": {
    "name": "ipython",
    "version": 3
   },
   "file_extension": ".py",
   "mimetype": "text/x-python",
   "name": "python",
   "nbconvert_exporter": "python",
   "pygments_lexer": "ipython3",
   "version": "3.12.7"
  }
 },
 "nbformat": 4,
 "nbformat_minor": 5
}
